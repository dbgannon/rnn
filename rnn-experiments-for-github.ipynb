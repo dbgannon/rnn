{
 "cells": [
  {
   "cell_type": "code",
   "execution_count": 1,
   "metadata": {
    "collapsed": true
   },
   "outputs": [],
   "source": [
    "import numpy as np\n",
    "import numpy.linalg as la"
   ]
  },
  {
   "cell_type": "code",
   "execution_count": 124,
   "metadata": {
    "collapsed": true
   },
   "outputs": [],
   "source": [
    "modelpath = \"the path to your model directory\""
   ]
  },
  {
   "cell_type": "code",
   "execution_count": 2,
   "metadata": {
    "collapsed": false
   },
   "outputs": [],
   "source": [
    "wordlines = [line.rstrip('\\n') for line in open(modelpath+'/vocab.txt', \"rb\")]"
   ]
  },
  {
   "cell_type": "markdown",
   "metadata": {
    "collapsed": false
   },
   "source": [
    "silly utility function to pull vocabulary words from vocab.txt file"
   ]
  },
  {
   "cell_type": "code",
   "execution_count": 121,
   "metadata": {
    "collapsed": false
   },
   "outputs": [],
   "source": [
    "def pullword(l):\n",
    "    i = 0\n",
    "    while l[i] == ' 'or l[i] == '\\t': i+=1\n",
    "    while l[i] != ' ' and l[i] != '\\t':\n",
    "        i+=1\n",
    "    while l[i] == ' ' or l[i] == '\\t':\n",
    "        i+=1\n",
    "    while l[i] != ' ' and l[i] != '\\t':\n",
    "        i+=1\n",
    "    while l[i] == ' ' or l[i] == '\\t': \n",
    "        i+= 1\n",
    "    strm = \"\"\n",
    "    while l[i] != ' ' and l[i] != '\\t':\n",
    "        strm = strm+l[i]\n",
    "        i += 1\n",
    "    return strm\n",
    "\n"
   ]
  },
  {
   "cell_type": "code",
   "execution_count": 122,
   "metadata": {
    "collapsed": false
   },
   "outputs": [],
   "source": [
    "wordlist = []\n",
    "for l in wordlines:\n",
    "    wordlist.extend([pullword(l)])"
   ]
  },
  {
   "cell_type": "markdown",
   "metadata": {
    "collapsed": false
   },
   "source": [
    "worddict is a word to index dictionary"
   ]
  },
  {
   "cell_type": "code",
   "execution_count": 123,
   "metadata": {
    "collapsed": true
   },
   "outputs": [],
   "source": [
    "worddict = { wordlist[i]: i for i in range(len(wordlist))}"
   ]
  },
  {
   "cell_type": "code",
   "execution_count": 11,
   "metadata": {
    "collapsed": true
   },
   "outputs": [],
   "source": [
    "with open('c:/users/dennis/documents/rnn-output/E0.txt') as file:\n",
    "    El = [[float(digit) for digit in line.split()] for line in file]\n",
    "E = np.array(El)"
   ]
  },
  {
   "cell_type": "code",
   "execution_count": 12,
   "metadata": {
    "collapsed": false
   },
   "outputs": [
    {
     "data": {
      "text/plain": [
       "(150L, 10000L)"
      ]
     },
     "execution_count": 12,
     "metadata": {},
     "output_type": "execute_result"
    }
   ],
   "source": [
    "E.shape"
   ]
  },
  {
   "cell_type": "code",
   "execution_count": 13,
   "metadata": {
    "collapsed": false
   },
   "outputs": [],
   "source": [
    "Et = np.zeros(shape = (10000,150))\n",
    "Etnorm = np.zeros(shape = (10000,150))"
   ]
  },
  {
   "cell_type": "code",
   "execution_count": 14,
   "metadata": {
    "collapsed": false
   },
   "outputs": [],
   "source": [
    "for i in range(10000): \n",
    "    Et[i,:] = E[:,i]\n",
    "    nrm = la.norm(Et[i,:])\n",
    "    Etnorm[i,:]= Et[i,:]/nrm"
   ]
  },
  {
   "cell_type": "code",
   "execution_count": 125,
   "metadata": {
    "collapsed": false
   },
   "outputs": [],
   "source": [
    "with open(modelpath+'/W2-new.txt') as file:\n",
    "    W2l = [[float(digit) for digit in line.split()] for line in file]\n",
    "W2 = np.array(W2l)"
   ]
  },
  {
   "cell_type": "code",
   "execution_count": 16,
   "metadata": {
    "collapsed": false
   },
   "outputs": [
    {
     "data": {
      "text/plain": [
       "(200L, 10000L)"
      ]
     },
     "execution_count": 16,
     "metadata": {},
     "output_type": "execute_result"
    }
   ],
   "source": [
    "W2.shape"
   ]
  },
  {
   "cell_type": "code",
   "execution_count": 17,
   "metadata": {
    "collapsed": true
   },
   "outputs": [],
   "source": [
    "W2t = np.zeros(shape = (10000,200))\n",
    "W2tnorm = np.zeros(shape = (10000,200))"
   ]
  },
  {
   "cell_type": "code",
   "execution_count": 18,
   "metadata": {
    "collapsed": false
   },
   "outputs": [],
   "source": [
    "for i in range(10000): \n",
    "    W2t[i,:] = W2[:,i]\n",
    "    nrm = la.norm(W2t[i,:])\n",
    "    W2tnorm[i,:]= W2t[i,:]/nrm"
   ]
  },
  {
   "cell_type": "code",
   "execution_count": 24,
   "metadata": {
    "collapsed": false
   },
   "outputs": [],
   "source": [
    "def getwvec(word, W):\n",
    "    try:\n",
    "        ind = worddict[word]\n",
    "    except:\n",
    "        print \"word \" + word + \" not in dictionary\"\n",
    "        return\n",
    "    return W[ind]"
   ]
  },
  {
   "cell_type": "code",
   "execution_count": 35,
   "metadata": {
    "collapsed": false
   },
   "outputs": [
    {
     "data": {
      "text/plain": [
       "28.173446519013897"
      ]
     },
     "execution_count": 35,
     "metadata": {},
     "output_type": "execute_result"
    }
   ],
   "source": [
    "la.norm(getwvec(\"ran\", Wt))"
   ]
  },
  {
   "cell_type": "code",
   "execution_count": 92,
   "metadata": {
    "collapsed": false
   },
   "outputs": [],
   "source": [
    "def getnear(word, Wt):\n",
    "    vec = getwvec(word, Wt)\n",
    "    s = vec.copy()\n",
    "    dots = []\n",
    "    nrm = la.norm(s)\n",
    "    s = s/nrm\n",
    "    for i in range(10000):\n",
    "        nrm = la.norm(Wt[i])\n",
    "        dots.extend([(np.dot(s,Wt[i]/nrm), i)])\n",
    "    dotsl = sorted(dots, key=lambda tup: -tup[0])\n",
    "    st = []\n",
    "    for i in range(5):\n",
    "        st.extend([wordlist[dotsl[i][1]]])\n",
    "    return st\n",
    "        \n",
    "  "
   ]
  },
  {
   "cell_type": "code",
   "execution_count": 93,
   "metadata": {
    "collapsed": true
   },
   "outputs": [],
   "source": [
    "def getnearvec(vec, Wt):\n",
    "    s = vec.copy()\n",
    "    dots = []\n",
    "    nrm = la.norm(s)\n",
    "    s = s/nrm\n",
    "    for i in range(10000):\n",
    "        nrm = la.norm(Wt[i])\n",
    "        dots.extend([(np.dot(s,Wt[i]/nrm), i)])\n",
    "    dotsl = sorted(dots, key=lambda tup: -tup[0])\n",
    "    st = []\n",
    "    for i in range(5):\n",
    "        st.extend([wordlist[dotsl[i][1]]])\n",
    "    return st\n",
    "        \n",
    "  "
   ]
  },
  {
   "cell_type": "code",
   "execution_count": 94,
   "metadata": {
    "collapsed": false
   },
   "outputs": [
    {
     "data": {
      "text/plain": [
       "['sent', 'turned', 'brought', 'rejected', 'sought']"
      ]
     },
     "execution_count": 94,
     "metadata": {},
     "output_type": "execute_result"
    }
   ],
   "source": [
    "getnear(\"sent\", W2t)"
   ]
  },
  {
   "cell_type": "code",
   "execution_count": 98,
   "metadata": {
    "collapsed": false
   },
   "outputs": [
    {
     "data": {
      "text/plain": [
       "['send', 'win', 'find', 'fly', 'keep']"
      ]
     },
     "execution_count": 98,
     "metadata": {},
     "output_type": "execute_result"
    }
   ],
   "source": [
    "getnear(\"send\", W2t)"
   ]
  },
  {
   "cell_type": "code",
   "execution_count": 97,
   "metadata": {
    "collapsed": false
   },
   "outputs": [
    {
     "data": {
      "text/plain": [
       "['man', 'woman', 'person', 'writer', 'veteran']"
      ]
     },
     "execution_count": 97,
     "metadata": {},
     "output_type": "execute_result"
    }
   ],
   "source": [
    "getnear(\"man\", W2t)"
   ]
  },
  {
   "cell_type": "code",
   "execution_count": 100,
   "metadata": {
    "collapsed": false
   },
   "outputs": [
    {
     "data": {
      "text/plain": [
       "['people', 'workers', 'men', 'members', 'lawyers']"
      ]
     },
     "execution_count": 100,
     "metadata": {},
     "output_type": "execute_result"
    }
   ],
   "source": [
    "getnear(\"people\", W2t)"
   ]
  },
  {
   "cell_type": "code",
   "execution_count": 76,
   "metadata": {
    "collapsed": false
   },
   "outputs": [],
   "source": [
    "def AistoBasCisto(A,B,C, Wt):\n",
    "    a = getwvec(A,Wt)\n",
    "    b = getwvec(B,Wt)\n",
    "    c = getwvec(C,Wt)\n",
    "    #c = c/la.norm(c)\n",
    "    #b = b/la.norm(b)\n",
    "    #a = a/la.norm(a)\n",
    "    d = c + (b-a)\n",
    "    g = getnearvec(d, Wt)\n",
    "    s = set([A, B, C])\n",
    "    r = []\n",
    "    for x in g:\n",
    "        if x not in s:\n",
    "            r.extend([x])\n",
    "    return r\n"
   ]
  },
  {
   "cell_type": "code",
   "execution_count": 109,
   "metadata": {
    "collapsed": false
   },
   "outputs": [
    {
     "data": {
      "text/plain": [
       "['thinks', 'thought', 'so']"
      ]
     },
     "execution_count": 109,
     "metadata": {},
     "output_type": "execute_result"
    }
   ],
   "source": [
    "AistoBasCisto('see', 'saw','think', Et)"
   ]
  },
  {
   "cell_type": "code",
   "execution_count": 111,
   "metadata": {
    "collapsed": false
   },
   "outputs": [
    {
     "data": {
      "text/plain": [
       "['managers', 'individuals', 'customers']"
      ]
     },
     "execution_count": 111,
     "metadata": {},
     "output_type": "execute_result"
    }
   ],
   "source": [
    "AistoBasCisto(\"car\",\"cars\", \"person\", Et)"
   ]
  },
  {
   "cell_type": "code",
   "execution_count": 119,
   "metadata": {
    "collapsed": false
   },
   "outputs": [
    {
     "data": {
      "text/plain": [
       "['attractive', 'wound', 'picked']"
      ]
     },
     "execution_count": 119,
     "metadata": {},
     "output_type": "execute_result"
    }
   ],
   "source": [
    "AistoBasCisto('run', 'running','walk', Et)"
   ]
  },
  {
   "cell_type": "code",
   "execution_count": 104,
   "metadata": {
    "collapsed": false,
    "scrolled": true
   },
   "outputs": [
    {
     "data": {
      "text/plain": [
       "['bought', 'buying', 'remaining']"
      ]
     },
     "execution_count": 104,
     "metadata": {},
     "output_type": "execute_result"
    }
   ],
   "source": [
    "AistoBasCisto('find', 'found','buy', Et)"
   ]
  },
  {
   "cell_type": "code",
   "execution_count": null,
   "metadata": {
    "collapsed": false
   },
   "outputs": [],
   "source": []
  },
  {
   "cell_type": "code",
   "execution_count": 112,
   "metadata": {
    "collapsed": false
   },
   "outputs": [
    {
     "data": {
      "text/plain": [
       "['wanted', \"'d\", 'knew']"
      ]
     },
     "execution_count": 112,
     "metadata": {},
     "output_type": "execute_result"
    }
   ],
   "source": [
    "AistoBasCisto('see', 'saw','think', W2t)"
   ]
  },
  {
   "cell_type": "code",
   "execution_count": 113,
   "metadata": {
    "collapsed": false
   },
   "outputs": [
    {
     "data": {
      "text/plain": [
       "['equaling', 'stearns', 'tons']"
      ]
     },
     "execution_count": 113,
     "metadata": {},
     "output_type": "execute_result"
    }
   ],
   "source": [
    "AistoBasCisto(\"car\",\"cars\", \"person\", W2t)"
   ]
  },
  {
   "cell_type": "code",
   "execution_count": 120,
   "metadata": {
    "collapsed": false
   },
   "outputs": [
    {
     "data": {
      "text/plain": [
       "['doing', 'quite', 'rushing', 'trying']"
      ]
     },
     "execution_count": 120,
     "metadata": {},
     "output_type": "execute_result"
    }
   ],
   "source": [
    "AistoBasCisto('run', 'running','walk', W2t)"
   ]
  },
  {
   "cell_type": "code",
   "execution_count": 116,
   "metadata": {
    "collapsed": false
   },
   "outputs": [
    {
     "data": {
      "text/plain": [
       "['pursued', 'created', 'conducted']"
      ]
     },
     "execution_count": 116,
     "metadata": {},
     "output_type": "execute_result"
    }
   ],
   "source": [
    "AistoBasCisto('find', 'found','buy', W2t)"
   ]
  },
  {
   "cell_type": "code",
   "execution_count": null,
   "metadata": {
    "collapsed": true
   },
   "outputs": [],
   "source": []
  }
 ],
 "metadata": {
  "kernelspec": {
   "display_name": "Python 2",
   "language": "python",
   "name": "python2"
  },
  "language_info": {
   "codemirror_mode": {
    "name": "ipython",
    "version": 2
   },
   "file_extension": ".py",
   "mimetype": "text/x-python",
   "name": "python",
   "nbconvert_exporter": "python",
   "pygments_lexer": "ipython2",
   "version": "2.7.9"
  }
 },
 "nbformat": 4,
 "nbformat_minor": 0
}
